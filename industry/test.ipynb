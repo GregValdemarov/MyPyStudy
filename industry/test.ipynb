{
 "cells": [
  {
   "cell_type": "code",
   "execution_count": 2,
   "id": "e4ed0251",
   "metadata": {},
   "outputs": [
    {
     "data": {
      "text/plain": [
       "<objects.Player at 0x251fbbc9e50>"
      ]
     },
     "execution_count": 2,
     "metadata": {},
     "output_type": "execute_result"
    }
   ],
   "source": [
    "import objects, cards\n",
    "\n",
    "player1 = objects.Player(manufacturer='adawda', queue=1, start_manufactorie=cards.start_card1)\n",
    "\n",
    "player1"
   ]
  },
  {
   "cell_type": "code",
   "execution_count": 6,
   "id": "61ae9057",
   "metadata": {},
   "outputs": [],
   "source": [
    "player1.manufactories[0].owner = player1"
   ]
  },
  {
   "cell_type": "code",
   "execution_count": 7,
   "id": "bfaf0915",
   "metadata": {},
   "outputs": [],
   "source": [
    "player1.manufactories[0].Compensation()"
   ]
  },
  {
   "cell_type": "code",
   "execution_count": 8,
   "id": "4a981e5c",
   "metadata": {},
   "outputs": [
    {
     "data": {
      "text/plain": [
       "1"
      ]
     },
     "execution_count": 8,
     "metadata": {},
     "output_type": "execute_result"
    }
   ],
   "source": [
    "player1.coil"
   ]
  },
  {
   "cell_type": "code",
   "execution_count": 10,
   "id": "55e9a07a",
   "metadata": {},
   "outputs": [
    {
     "data": {
      "text/plain": [
       "1"
      ]
     },
     "execution_count": 10,
     "metadata": {},
     "output_type": "execute_result"
    }
   ],
   "source": [
    "player1.steel"
   ]
  },
  {
   "cell_type": "code",
   "execution_count": null,
   "id": "6c689395",
   "metadata": {},
   "outputs": [],
   "source": []
  }
 ],
 "metadata": {
  "kernelspec": {
   "display_name": "Python 3",
   "language": "python",
   "name": "python3"
  },
  "language_info": {
   "codemirror_mode": {
    "name": "ipython",
    "version": 3
   },
   "file_extension": ".py",
   "mimetype": "text/x-python",
   "name": "python",
   "nbconvert_exporter": "python",
   "pygments_lexer": "ipython3",
   "version": "3.13.6"
  }
 },
 "nbformat": 4,
 "nbformat_minor": 5
}
