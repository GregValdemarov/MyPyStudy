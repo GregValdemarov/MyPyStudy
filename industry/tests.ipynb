{
 "cells": [
  {
   "cell_type": "code",
   "execution_count": 16,
   "id": "45c521dd",
   "metadata": {},
   "outputs": [],
   "source": [
    "from src import funcs, objects \n"
   ]
  },
  {
   "cell_type": "code",
   "execution_count": 17,
   "id": "84a72a8e",
   "metadata": {},
   "outputs": [],
   "source": [
    "player1 = objects.Player(\"None\", 1, \"None\")"
   ]
  },
  {
   "cell_type": "code",
   "execution_count": 19,
   "id": "23d93005",
   "metadata": {},
   "outputs": [],
   "source": [
    "player1.coil = 500"
   ]
  },
  {
   "cell_type": "code",
   "execution_count": 20,
   "id": "ab6255db",
   "metadata": {},
   "outputs": [
    {
     "data": {
      "text/plain": [
       "500"
      ]
     },
     "execution_count": 20,
     "metadata": {},
     "output_type": "execute_result"
    }
   ],
   "source": [
    "player1.coil"
   ]
  },
  {
   "cell_type": "code",
   "execution_count": null,
   "id": "3d617447",
   "metadata": {},
   "outputs": [],
   "source": []
  }
 ],
 "metadata": {
  "kernelspec": {
   "display_name": "Python 3",
   "language": "python",
   "name": "python3"
  },
  "language_info": {
   "codemirror_mode": {
    "name": "ipython",
    "version": 3
   },
   "file_extension": ".py",
   "mimetype": "text/x-python",
   "name": "python",
   "nbconvert_exporter": "python",
   "pygments_lexer": "ipython3",
   "version": "3.13.5"
  }
 },
 "nbformat": 4,
 "nbformat_minor": 5
}
